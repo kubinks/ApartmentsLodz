{
 "cells": [
  {
   "cell_type": "markdown",
   "metadata": {},
   "source": [
    "# Cleaning and performing Exploratory Data Analysis on the scraped data"
   ]
  },
  {
   "cell_type": "code",
   "execution_count": 1,
   "metadata": {},
   "outputs": [],
   "source": [
    "import pandas as pd\n",
    "import seaborn as sns\n",
    "import numpy as np\n",
    "import matplotlib.pyplot as plt\n",
    "sns.set_context(\"talk\")"
   ]
  },
  {
   "cell_type": "code",
   "execution_count": 2,
   "metadata": {},
   "outputs": [
    {
     "data": {
      "text/html": [
       "<div>\n",
       "<style scoped>\n",
       "    .dataframe tbody tr th:only-of-type {\n",
       "        vertical-align: middle;\n",
       "    }\n",
       "\n",
       "    .dataframe tbody tr th {\n",
       "        vertical-align: top;\n",
       "    }\n",
       "\n",
       "    .dataframe thead th {\n",
       "        text-align: right;\n",
       "    }\n",
       "</style>\n",
       "<table border=\"1\" class=\"dataframe\">\n",
       "  <thead>\n",
       "    <tr style=\"text-align: right;\">\n",
       "      <th></th>\n",
       "      <th>Unnamed: 0</th>\n",
       "      <th>Url</th>\n",
       "      <th>Oferta</th>\n",
       "      <th>Cena</th>\n",
       "      <th>Oferta od</th>\n",
       "      <th>Poziom</th>\n",
       "      <th>Umeblowane</th>\n",
       "      <th>Rodzaj zabudowy</th>\n",
       "      <th>Powierzchnia</th>\n",
       "      <th>Liczba pokoi</th>\n",
       "      <th>...</th>\n",
       "      <th>Kaucja</th>\n",
       "      <th>Piętro</th>\n",
       "      <th>Liczba pięter</th>\n",
       "      <th>Materiał budynku</th>\n",
       "      <th>Okna</th>\n",
       "      <th>Ogrzewanie</th>\n",
       "      <th>Rok budowy</th>\n",
       "      <th>Stan wykończenia</th>\n",
       "      <th>Dostępne od</th>\n",
       "      <th>Obsługa zdalna</th>\n",
       "    </tr>\n",
       "  </thead>\n",
       "  <tbody>\n",
       "    <tr>\n",
       "      <th>0</th>\n",
       "      <td>0</td>\n",
       "      <td>https://www.olx.pl/oferta/kawalerka-na-wynajem...</td>\n",
       "      <td>Kawalerka na wynajem. Bałuty</td>\n",
       "      <td>1 040 zł</td>\n",
       "      <td>Osoby prywatnej</td>\n",
       "      <td>2</td>\n",
       "      <td>Tak</td>\n",
       "      <td>Blok</td>\n",
       "      <td>22 m²</td>\n",
       "      <td>Kawalerka</td>\n",
       "      <td>...</td>\n",
       "      <td>NaN</td>\n",
       "      <td>NaN</td>\n",
       "      <td>NaN</td>\n",
       "      <td>NaN</td>\n",
       "      <td>NaN</td>\n",
       "      <td>NaN</td>\n",
       "      <td>NaN</td>\n",
       "      <td>NaN</td>\n",
       "      <td>NaN</td>\n",
       "      <td>NaN</td>\n",
       "    </tr>\n",
       "    <tr>\n",
       "      <th>1</th>\n",
       "      <td>1</td>\n",
       "      <td>https://www.olx.pl/oferta/wakacje-30-rentaroom...</td>\n",
       "      <td>WAKACJE -30% RENTAROOM.PL Speak Eng Manufaktur...</td>\n",
       "      <td>850 zł</td>\n",
       "      <td>Biuro / Deweloper</td>\n",
       "      <td>Parter</td>\n",
       "      <td>Tak</td>\n",
       "      <td>Blok</td>\n",
       "      <td>18 m²</td>\n",
       "      <td>Kawalerka</td>\n",
       "      <td>...</td>\n",
       "      <td>NaN</td>\n",
       "      <td>NaN</td>\n",
       "      <td>NaN</td>\n",
       "      <td>NaN</td>\n",
       "      <td>NaN</td>\n",
       "      <td>NaN</td>\n",
       "      <td>NaN</td>\n",
       "      <td>NaN</td>\n",
       "      <td>NaN</td>\n",
       "      <td>NaN</td>\n",
       "    </tr>\n",
       "    <tr>\n",
       "      <th>2</th>\n",
       "      <td>2</td>\n",
       "      <td>https://www.olx.pl/oferta/wynajme-mieszkanie-4...</td>\n",
       "      <td>Wynajme mieszkanie 48m2 2 pokoje Łódź ul.Gandh...</td>\n",
       "      <td>1 500 zł</td>\n",
       "      <td>Osoby prywatnej</td>\n",
       "      <td>2</td>\n",
       "      <td>Tak</td>\n",
       "      <td>Blok</td>\n",
       "      <td>48 m²</td>\n",
       "      <td>2 pokoje</td>\n",
       "      <td>...</td>\n",
       "      <td>NaN</td>\n",
       "      <td>NaN</td>\n",
       "      <td>NaN</td>\n",
       "      <td>NaN</td>\n",
       "      <td>NaN</td>\n",
       "      <td>NaN</td>\n",
       "      <td>NaN</td>\n",
       "      <td>NaN</td>\n",
       "      <td>NaN</td>\n",
       "      <td>NaN</td>\n",
       "    </tr>\n",
       "    <tr>\n",
       "      <th>3</th>\n",
       "      <td>3</td>\n",
       "      <td>https://www.olx.pl/oferta/2-pokoje-w-stylu-lof...</td>\n",
       "      <td>2 pokoje w stylu loft k. Manufaktury</td>\n",
       "      <td>1 400 zł</td>\n",
       "      <td>Osoby prywatnej</td>\n",
       "      <td>4</td>\n",
       "      <td>Tak</td>\n",
       "      <td>Blok</td>\n",
       "      <td>35 m²</td>\n",
       "      <td>2 pokoje</td>\n",
       "      <td>...</td>\n",
       "      <td>NaN</td>\n",
       "      <td>NaN</td>\n",
       "      <td>NaN</td>\n",
       "      <td>NaN</td>\n",
       "      <td>NaN</td>\n",
       "      <td>NaN</td>\n",
       "      <td>NaN</td>\n",
       "      <td>NaN</td>\n",
       "      <td>NaN</td>\n",
       "      <td>NaN</td>\n",
       "    </tr>\n",
       "    <tr>\n",
       "      <th>4</th>\n",
       "      <td>4</td>\n",
       "      <td>https://www.olx.pl/oferta/przytulna-kawalerka-...</td>\n",
       "      <td>Przytulna kawalerka. wysoki standard. ul. Uniw...</td>\n",
       "      <td>1 300 zł</td>\n",
       "      <td>Osoby prywatnej</td>\n",
       "      <td>1</td>\n",
       "      <td>Tak</td>\n",
       "      <td>Blok</td>\n",
       "      <td>20 m²</td>\n",
       "      <td>Kawalerka</td>\n",
       "      <td>...</td>\n",
       "      <td>NaN</td>\n",
       "      <td>NaN</td>\n",
       "      <td>NaN</td>\n",
       "      <td>NaN</td>\n",
       "      <td>NaN</td>\n",
       "      <td>NaN</td>\n",
       "      <td>NaN</td>\n",
       "      <td>NaN</td>\n",
       "      <td>NaN</td>\n",
       "      <td>NaN</td>\n",
       "    </tr>\n",
       "  </tbody>\n",
       "</table>\n",
       "<p>5 rows × 22 columns</p>\n",
       "</div>"
      ],
      "text/plain": [
       "   Unnamed: 0                                                Url  \\\n",
       "0           0  https://www.olx.pl/oferta/kawalerka-na-wynajem...   \n",
       "1           1  https://www.olx.pl/oferta/wakacje-30-rentaroom...   \n",
       "2           2  https://www.olx.pl/oferta/wynajme-mieszkanie-4...   \n",
       "3           3  https://www.olx.pl/oferta/2-pokoje-w-stylu-lof...   \n",
       "4           4  https://www.olx.pl/oferta/przytulna-kawalerka-...   \n",
       "\n",
       "                                              Oferta      Cena  \\\n",
       "0                       Kawalerka na wynajem. Bałuty  1 040 zł   \n",
       "1  WAKACJE -30% RENTAROOM.PL Speak Eng Manufaktur...    850 zł   \n",
       "2  Wynajme mieszkanie 48m2 2 pokoje Łódź ul.Gandh...  1 500 zł   \n",
       "3               2 pokoje w stylu loft k. Manufaktury  1 400 zł   \n",
       "4  Przytulna kawalerka. wysoki standard. ul. Uniw...  1 300 zł   \n",
       "\n",
       "           Oferta od  Poziom Umeblowane Rodzaj zabudowy Powierzchnia  \\\n",
       "0    Osoby prywatnej       2        Tak            Blok        22 m²   \n",
       "1  Biuro / Deweloper  Parter        Tak            Blok        18 m²   \n",
       "2    Osoby prywatnej       2        Tak            Blok        48 m²   \n",
       "3    Osoby prywatnej       4        Tak            Blok        35 m²   \n",
       "4    Osoby prywatnej       1        Tak            Blok        20 m²   \n",
       "\n",
       "  Liczba pokoi  ... Kaucja Piętro Liczba pięter Materiał budynku  Okna  \\\n",
       "0    Kawalerka  ...    NaN    NaN           NaN              NaN   NaN   \n",
       "1    Kawalerka  ...    NaN    NaN           NaN              NaN   NaN   \n",
       "2     2 pokoje  ...    NaN    NaN           NaN              NaN   NaN   \n",
       "3     2 pokoje  ...    NaN    NaN           NaN              NaN   NaN   \n",
       "4    Kawalerka  ...    NaN    NaN           NaN              NaN   NaN   \n",
       "\n",
       "  Ogrzewanie Rok budowy Stan wykończenia  Dostępne od Obsługa zdalna  \n",
       "0        NaN        NaN              NaN          NaN            NaN  \n",
       "1        NaN        NaN              NaN          NaN            NaN  \n",
       "2        NaN        NaN              NaN          NaN            NaN  \n",
       "3        NaN        NaN              NaN          NaN            NaN  \n",
       "4        NaN        NaN              NaN          NaN            NaN  \n",
       "\n",
       "[5 rows x 22 columns]"
      ]
     },
     "execution_count": 2,
     "metadata": {},
     "output_type": "execute_result"
    }
   ],
   "source": [
    "# Loading and printing data\n",
    "df = pd.read_csv('C:/Users/KubaPC/Desktop/mieszkaniaLodz/offers.csv')\n",
    "df.head()"
   ]
  },
  {
   "cell_type": "code",
   "execution_count": 3,
   "metadata": {},
   "outputs": [
    {
     "data": {
      "text/plain": [
       "Index(['Unnamed: 0', 'Url', 'Oferta', 'Cena', 'Oferta od', 'Poziom',\n",
       "       'Umeblowane', 'Rodzaj zabudowy', 'Powierzchnia', 'Liczba pokoi',\n",
       "       'Czynsz (dodatkowo)', 'Czynsz - dodatkowo', 'Kaucja', 'Piętro',\n",
       "       'Liczba pięter', 'Materiał budynku', 'Okna', 'Ogrzewanie', 'Rok budowy',\n",
       "       'Stan wykończenia', 'Dostępne od', 'Obsługa zdalna'],\n",
       "      dtype='object')"
      ]
     },
     "execution_count": 3,
     "metadata": {},
     "output_type": "execute_result"
    }
   ],
   "source": [
    "# Printing all column names\n",
    "df.columns"
   ]
  },
  {
   "cell_type": "markdown",
   "metadata": {},
   "source": [
    "Checking for the amount of missing data"
   ]
  },
  {
   "cell_type": "code",
   "execution_count": 4,
   "metadata": {},
   "outputs": [
    {
     "name": "stdout",
     "output_type": "stream",
     "text": [
      "Column \"Unnamed: 0\" has  \t\t 0.0 % missing values\n",
      "Column \"Url\" has  \t\t 0.0 % missing values\n",
      "Column \"Oferta\" has  \t\t 0.0 % missing values\n",
      "Column \"Cena\" has  \t\t 0.0 % missing values\n",
      "Column \"Oferta od\" has  \t\t 11.5 % missing values\n",
      "Column \"Poziom\" has  \t\t 13.2 % missing values\n",
      "Column \"Umeblowane\" has  \t\t 11.5 % missing values\n",
      "Column \"Rodzaj zabudowy\" has  \t\t 0.0 % missing values\n",
      "Column \"Powierzchnia\" has  \t\t 0.0 % missing values\n",
      "Column \"Liczba pokoi\" has  \t\t 0.0 % missing values\n",
      "Column \"Czynsz (dodatkowo)\" has  \t\t 11.5 % missing values\n",
      "\u001b[1mColumn \"Czynsz - dodatkowo\" has  \t\t 89.64 % missing values\u001b[0m\n",
      "\u001b[1mColumn \"Kaucja\" has  \t\t 90.2 % missing values\u001b[0m\n",
      "\u001b[1mColumn \"Piętro\" has  \t\t 88.74 % missing values\u001b[0m\n",
      "\u001b[1mColumn \"Liczba pięter\" has  \t\t 89.39 % missing values\u001b[0m\n",
      "\u001b[1mColumn \"Materiał budynku\" has  \t\t 92.55 % missing values\u001b[0m\n",
      "\u001b[1mColumn \"Okna\" has  \t\t 88.99 % missing values\u001b[0m\n",
      "\u001b[1mColumn \"Ogrzewanie\" has  \t\t 89.23 % missing values\u001b[0m\n",
      "\u001b[1mColumn \"Rok budowy\" has  \t\t 94.33 % missing values\u001b[0m\n",
      "\u001b[1mColumn \"Stan wykończenia\" has  \t\t 89.07 % missing values\u001b[0m\n",
      "\u001b[1mColumn \"Dostępne od\" has  \t\t 96.68 % missing values\u001b[0m\n",
      "\u001b[1mColumn \"Obsługa zdalna\" has  \t\t 99.68 % missing values\u001b[0m\n"
     ]
    }
   ],
   "source": [
    "for col in df.columns:\n",
    "    missing = round(df[col].isna().sum()/len(df) * 100, 2)\n",
    "    # Printing columns with over 75% of missing values in bold\n",
    "    if missing > 75:\n",
    "        print('\\033[1m' + f'Column \"{col}\" has  \\t\\t {missing} % missing values' + '\\033[0m')\n",
    "    else:\n",
    "        print(f'Column \"{col}\" has  \\t\\t {missing} % missing values')"
   ]
  },
  {
   "cell_type": "markdown",
   "metadata": {},
   "source": [
    "## Cleaning the data"
   ]
  },
  {
   "cell_type": "markdown",
   "metadata": {},
   "source": [
    "From the names and amount of missing values, we can conclude which columns are close to irrelevant in terms of predicting prices of apartments and therefore we will drop them."
   ]
  },
  {
   "cell_type": "code",
   "execution_count": 5,
   "metadata": {},
   "outputs": [
    {
     "data": {
      "text/html": [
       "<div>\n",
       "<style scoped>\n",
       "    .dataframe tbody tr th:only-of-type {\n",
       "        vertical-align: middle;\n",
       "    }\n",
       "\n",
       "    .dataframe tbody tr th {\n",
       "        vertical-align: top;\n",
       "    }\n",
       "\n",
       "    .dataframe thead th {\n",
       "        text-align: right;\n",
       "    }\n",
       "</style>\n",
       "<table border=\"1\" class=\"dataframe\">\n",
       "  <thead>\n",
       "    <tr style=\"text-align: right;\">\n",
       "      <th></th>\n",
       "      <th>Url</th>\n",
       "      <th>Oferta</th>\n",
       "      <th>Cena</th>\n",
       "      <th>Poziom</th>\n",
       "      <th>Umeblowane</th>\n",
       "      <th>Powierzchnia</th>\n",
       "      <th>Liczba pokoi</th>\n",
       "      <th>Czynsz (dodatkowo)</th>\n",
       "      <th>Czynsz - dodatkowo</th>\n",
       "      <th>Piętro</th>\n",
       "    </tr>\n",
       "  </thead>\n",
       "  <tbody>\n",
       "    <tr>\n",
       "      <th>0</th>\n",
       "      <td>https://www.olx.pl/oferta/kawalerka-na-wynajem...</td>\n",
       "      <td>Kawalerka na wynajem. Bałuty</td>\n",
       "      <td>1 040 zł</td>\n",
       "      <td>2</td>\n",
       "      <td>Tak</td>\n",
       "      <td>22 m²</td>\n",
       "      <td>Kawalerka</td>\n",
       "      <td>360 zł</td>\n",
       "      <td>NaN</td>\n",
       "      <td>NaN</td>\n",
       "    </tr>\n",
       "    <tr>\n",
       "      <th>1</th>\n",
       "      <td>https://www.olx.pl/oferta/wakacje-30-rentaroom...</td>\n",
       "      <td>WAKACJE -30% RENTAROOM.PL Speak Eng Manufaktur...</td>\n",
       "      <td>850 zł</td>\n",
       "      <td>Parter</td>\n",
       "      <td>Tak</td>\n",
       "      <td>18 m²</td>\n",
       "      <td>Kawalerka</td>\n",
       "      <td>250 zł</td>\n",
       "      <td>NaN</td>\n",
       "      <td>NaN</td>\n",
       "    </tr>\n",
       "    <tr>\n",
       "      <th>2</th>\n",
       "      <td>https://www.olx.pl/oferta/wynajme-mieszkanie-4...</td>\n",
       "      <td>Wynajme mieszkanie 48m2 2 pokoje Łódź ul.Gandh...</td>\n",
       "      <td>1 500 zł</td>\n",
       "      <td>2</td>\n",
       "      <td>Tak</td>\n",
       "      <td>48 m²</td>\n",
       "      <td>2 pokoje</td>\n",
       "      <td>480 zł</td>\n",
       "      <td>NaN</td>\n",
       "      <td>NaN</td>\n",
       "    </tr>\n",
       "    <tr>\n",
       "      <th>3</th>\n",
       "      <td>https://www.olx.pl/oferta/2-pokoje-w-stylu-lof...</td>\n",
       "      <td>2 pokoje w stylu loft k. Manufaktury</td>\n",
       "      <td>1 400 zł</td>\n",
       "      <td>4</td>\n",
       "      <td>Tak</td>\n",
       "      <td>35 m²</td>\n",
       "      <td>2 pokoje</td>\n",
       "      <td>450 zł</td>\n",
       "      <td>NaN</td>\n",
       "      <td>NaN</td>\n",
       "    </tr>\n",
       "    <tr>\n",
       "      <th>4</th>\n",
       "      <td>https://www.olx.pl/oferta/przytulna-kawalerka-...</td>\n",
       "      <td>Przytulna kawalerka. wysoki standard. ul. Uniw...</td>\n",
       "      <td>1 300 zł</td>\n",
       "      <td>1</td>\n",
       "      <td>Tak</td>\n",
       "      <td>20 m²</td>\n",
       "      <td>Kawalerka</td>\n",
       "      <td>210 zł</td>\n",
       "      <td>NaN</td>\n",
       "      <td>NaN</td>\n",
       "    </tr>\n",
       "  </tbody>\n",
       "</table>\n",
       "</div>"
      ],
      "text/plain": [
       "                                                 Url  \\\n",
       "0  https://www.olx.pl/oferta/kawalerka-na-wynajem...   \n",
       "1  https://www.olx.pl/oferta/wakacje-30-rentaroom...   \n",
       "2  https://www.olx.pl/oferta/wynajme-mieszkanie-4...   \n",
       "3  https://www.olx.pl/oferta/2-pokoje-w-stylu-lof...   \n",
       "4  https://www.olx.pl/oferta/przytulna-kawalerka-...   \n",
       "\n",
       "                                              Oferta      Cena  Poziom  \\\n",
       "0                       Kawalerka na wynajem. Bałuty  1 040 zł       2   \n",
       "1  WAKACJE -30% RENTAROOM.PL Speak Eng Manufaktur...    850 zł  Parter   \n",
       "2  Wynajme mieszkanie 48m2 2 pokoje Łódź ul.Gandh...  1 500 zł       2   \n",
       "3               2 pokoje w stylu loft k. Manufaktury  1 400 zł       4   \n",
       "4  Przytulna kawalerka. wysoki standard. ul. Uniw...  1 300 zł       1   \n",
       "\n",
       "  Umeblowane Powierzchnia Liczba pokoi Czynsz (dodatkowo) Czynsz - dodatkowo  \\\n",
       "0        Tak        22 m²    Kawalerka             360 zł                NaN   \n",
       "1        Tak        18 m²    Kawalerka             250 zł                NaN   \n",
       "2        Tak        48 m²     2 pokoje             480 zł                NaN   \n",
       "3        Tak        35 m²     2 pokoje             450 zł                NaN   \n",
       "4        Tak        20 m²    Kawalerka             210 zł                NaN   \n",
       "\n",
       "  Piętro  \n",
       "0    NaN  \n",
       "1    NaN  \n",
       "2    NaN  \n",
       "3    NaN  \n",
       "4    NaN  "
      ]
     },
     "execution_count": 5,
     "metadata": {},
     "output_type": "execute_result"
    }
   ],
   "source": [
    "df.drop(['Unnamed: 0', 'Oferta od', 'Obsługa zdalna', 'Dostępne od', 'Kaucja', 'Liczba pięter',\n",
    "         'Materiał budynku', 'Rok budowy', 'Ogrzewanie', 'Okna', 'Stan wykończenia', 'Rodzaj zabudowy'], axis=1, inplace=True)\n",
    "df.head()"
   ]
  },
  {
   "cell_type": "markdown",
   "metadata": {},
   "source": [
    "It seems like columns 'Czynsz (dodatkowo)' and 'Czynsz - dodatkowo' can be merged together since they give the same information, probably depending on the site they were scraped from. Before joining them together, we have to check whether there is any offer with them given both at the same time"
   ]
  },
  {
   "cell_type": "code",
   "execution_count": 6,
   "metadata": {
    "scrolled": true
   },
   "outputs": [
    {
     "data": {
      "text/html": [
       "<div>\n",
       "<style scoped>\n",
       "    .dataframe tbody tr th:only-of-type {\n",
       "        vertical-align: middle;\n",
       "    }\n",
       "\n",
       "    .dataframe tbody tr th {\n",
       "        vertical-align: top;\n",
       "    }\n",
       "\n",
       "    .dataframe thead th {\n",
       "        text-align: right;\n",
       "    }\n",
       "</style>\n",
       "<table border=\"1\" class=\"dataframe\">\n",
       "  <thead>\n",
       "    <tr style=\"text-align: right;\">\n",
       "      <th></th>\n",
       "      <th>Url</th>\n",
       "      <th>Oferta</th>\n",
       "      <th>Cena</th>\n",
       "      <th>Poziom</th>\n",
       "      <th>Umeblowane</th>\n",
       "      <th>Powierzchnia</th>\n",
       "      <th>Liczba pokoi</th>\n",
       "      <th>Czynsz (dodatkowo)</th>\n",
       "      <th>Czynsz - dodatkowo</th>\n",
       "      <th>Piętro</th>\n",
       "    </tr>\n",
       "  </thead>\n",
       "  <tbody>\n",
       "  </tbody>\n",
       "</table>\n",
       "</div>"
      ],
      "text/plain": [
       "Empty DataFrame\n",
       "Columns: [Url, Oferta, Cena, Poziom, Umeblowane, Powierzchnia, Liczba pokoi, Czynsz (dodatkowo), Czynsz - dodatkowo, Piętro]\n",
       "Index: []"
      ]
     },
     "execution_count": 6,
     "metadata": {},
     "output_type": "execute_result"
    }
   ],
   "source": [
    "df[(df['Czynsz (dodatkowo)'].notnull()) & (df['Czynsz - dodatkowo'].notnull())]"
   ]
  },
  {
   "cell_type": "code",
   "execution_count": 7,
   "metadata": {
    "scrolled": true
   },
   "outputs": [],
   "source": [
    "# Filling null values with zeros to perform addition\n",
    "df['Czynsz (dodatkowo)'].fillna('0', inplace=True)\n",
    "df['Czynsz - dodatkowo'].fillna('0', inplace=True)"
   ]
  },
  {
   "cell_type": "code",
   "execution_count": 8,
   "metadata": {},
   "outputs": [],
   "source": [
    "# Converting data into floats, getting rid of currency signs\n",
    "df['Czynsz (dodatkowo)'] = df['Czynsz (dodatkowo)'].apply(lambda x: float(x.split(' zł')[0].replace(',', '.').replace(' ', '')))\n",
    "df['Czynsz - dodatkowo'] = df['Czynsz - dodatkowo'].apply(lambda x: float(x.split(' zł')[0].replace(',', '.').replace(' ', '')))\n",
    "df['Cena'] = df['Cena'].apply(lambda x: float(x.split(' zł')[0].replace(',', '.').replace(' ', '')))"
   ]
  },
  {
   "cell_type": "code",
   "execution_count": 9,
   "metadata": {},
   "outputs": [],
   "source": [
    "# Summing columns, dropping unnecesary ones\n",
    "df['Cena'] = df['Cena'] + df['Czynsz - dodatkowo'] + df['Czynsz (dodatkowo)']\n",
    "df.drop(['Czynsz - dodatkowo', 'Czynsz (dodatkowo)'], axis=1, inplace=True)"
   ]
  },
  {
   "cell_type": "code",
   "execution_count": 10,
   "metadata": {
    "scrolled": true
   },
   "outputs": [
    {
     "data": {
      "text/html": [
       "<div>\n",
       "<style scoped>\n",
       "    .dataframe tbody tr th:only-of-type {\n",
       "        vertical-align: middle;\n",
       "    }\n",
       "\n",
       "    .dataframe tbody tr th {\n",
       "        vertical-align: top;\n",
       "    }\n",
       "\n",
       "    .dataframe thead th {\n",
       "        text-align: right;\n",
       "    }\n",
       "</style>\n",
       "<table border=\"1\" class=\"dataframe\">\n",
       "  <thead>\n",
       "    <tr style=\"text-align: right;\">\n",
       "      <th></th>\n",
       "      <th>Url</th>\n",
       "      <th>Oferta</th>\n",
       "      <th>Cena</th>\n",
       "      <th>Poziom</th>\n",
       "      <th>Umeblowane</th>\n",
       "      <th>Powierzchnia</th>\n",
       "      <th>Liczba pokoi</th>\n",
       "      <th>Piętro</th>\n",
       "    </tr>\n",
       "  </thead>\n",
       "  <tbody>\n",
       "    <tr>\n",
       "      <th>0</th>\n",
       "      <td>https://www.olx.pl/oferta/kawalerka-na-wynajem...</td>\n",
       "      <td>Kawalerka na wynajem. Bałuty</td>\n",
       "      <td>1400.0</td>\n",
       "      <td>2</td>\n",
       "      <td>Tak</td>\n",
       "      <td>22 m²</td>\n",
       "      <td>Kawalerka</td>\n",
       "      <td>NaN</td>\n",
       "    </tr>\n",
       "    <tr>\n",
       "      <th>1</th>\n",
       "      <td>https://www.olx.pl/oferta/wakacje-30-rentaroom...</td>\n",
       "      <td>WAKACJE -30% RENTAROOM.PL Speak Eng Manufaktur...</td>\n",
       "      <td>1100.0</td>\n",
       "      <td>Parter</td>\n",
       "      <td>Tak</td>\n",
       "      <td>18 m²</td>\n",
       "      <td>Kawalerka</td>\n",
       "      <td>NaN</td>\n",
       "    </tr>\n",
       "    <tr>\n",
       "      <th>2</th>\n",
       "      <td>https://www.olx.pl/oferta/wynajme-mieszkanie-4...</td>\n",
       "      <td>Wynajme mieszkanie 48m2 2 pokoje Łódź ul.Gandh...</td>\n",
       "      <td>1980.0</td>\n",
       "      <td>2</td>\n",
       "      <td>Tak</td>\n",
       "      <td>48 m²</td>\n",
       "      <td>2 pokoje</td>\n",
       "      <td>NaN</td>\n",
       "    </tr>\n",
       "    <tr>\n",
       "      <th>3</th>\n",
       "      <td>https://www.olx.pl/oferta/2-pokoje-w-stylu-lof...</td>\n",
       "      <td>2 pokoje w stylu loft k. Manufaktury</td>\n",
       "      <td>1850.0</td>\n",
       "      <td>4</td>\n",
       "      <td>Tak</td>\n",
       "      <td>35 m²</td>\n",
       "      <td>2 pokoje</td>\n",
       "      <td>NaN</td>\n",
       "    </tr>\n",
       "    <tr>\n",
       "      <th>4</th>\n",
       "      <td>https://www.olx.pl/oferta/przytulna-kawalerka-...</td>\n",
       "      <td>Przytulna kawalerka. wysoki standard. ul. Uniw...</td>\n",
       "      <td>1510.0</td>\n",
       "      <td>1</td>\n",
       "      <td>Tak</td>\n",
       "      <td>20 m²</td>\n",
       "      <td>Kawalerka</td>\n",
       "      <td>NaN</td>\n",
       "    </tr>\n",
       "  </tbody>\n",
       "</table>\n",
       "</div>"
      ],
      "text/plain": [
       "                                                 Url  \\\n",
       "0  https://www.olx.pl/oferta/kawalerka-na-wynajem...   \n",
       "1  https://www.olx.pl/oferta/wakacje-30-rentaroom...   \n",
       "2  https://www.olx.pl/oferta/wynajme-mieszkanie-4...   \n",
       "3  https://www.olx.pl/oferta/2-pokoje-w-stylu-lof...   \n",
       "4  https://www.olx.pl/oferta/przytulna-kawalerka-...   \n",
       "\n",
       "                                              Oferta    Cena  Poziom  \\\n",
       "0                       Kawalerka na wynajem. Bałuty  1400.0       2   \n",
       "1  WAKACJE -30% RENTAROOM.PL Speak Eng Manufaktur...  1100.0  Parter   \n",
       "2  Wynajme mieszkanie 48m2 2 pokoje Łódź ul.Gandh...  1980.0       2   \n",
       "3               2 pokoje w stylu loft k. Manufaktury  1850.0       4   \n",
       "4  Przytulna kawalerka. wysoki standard. ul. Uniw...  1510.0       1   \n",
       "\n",
       "  Umeblowane Powierzchnia Liczba pokoi Piętro  \n",
       "0        Tak        22 m²    Kawalerka    NaN  \n",
       "1        Tak        18 m²    Kawalerka    NaN  \n",
       "2        Tak        48 m²     2 pokoje    NaN  \n",
       "3        Tak        35 m²     2 pokoje    NaN  \n",
       "4        Tak        20 m²    Kawalerka    NaN  "
      ]
     },
     "execution_count": 10,
     "metadata": {},
     "output_type": "execute_result"
    }
   ],
   "source": [
    "df.head()"
   ]
  },
  {
   "cell_type": "markdown",
   "metadata": {},
   "source": [
    "There is a similar story with columns 'Piętro' and 'Poziom', both meaning floors. However we can see that some values are numerical and some are descriptive."
   ]
  },
  {
   "cell_type": "code",
   "execution_count": 11,
   "metadata": {},
   "outputs": [
    {
     "name": "stdout",
     "output_type": "stream",
     "text": [
      "[nan ' 7' ' 4' ' 3' ' 1' ' 2' ' 6' ' parter' ' 5' ' 10' ' 9' ' > 10' ' 8']\n",
      "['2' 'Parter' '4' '1' '6' '3' nan '9' '7' '5' '8' 'Powyżej 10' '10']\n"
     ]
    }
   ],
   "source": [
    "print(df['Piętro'].unique())\n",
    "print(df['Poziom'].unique())"
   ]
  },
  {
   "cell_type": "code",
   "execution_count": 12,
   "metadata": {},
   "outputs": [],
   "source": [
    "# Making a dictionary to change descriptive values\n",
    "replace = {'Parter': '0', ' parter': '0', ' > 10': '11', 'Powyżej 10': '11'}"
   ]
  },
  {
   "cell_type": "code",
   "execution_count": 13,
   "metadata": {},
   "outputs": [
    {
     "data": {
      "text/html": [
       "<div>\n",
       "<style scoped>\n",
       "    .dataframe tbody tr th:only-of-type {\n",
       "        vertical-align: middle;\n",
       "    }\n",
       "\n",
       "    .dataframe tbody tr th {\n",
       "        vertical-align: top;\n",
       "    }\n",
       "\n",
       "    .dataframe thead th {\n",
       "        text-align: right;\n",
       "    }\n",
       "</style>\n",
       "<table border=\"1\" class=\"dataframe\">\n",
       "  <thead>\n",
       "    <tr style=\"text-align: right;\">\n",
       "      <th></th>\n",
       "      <th>Url</th>\n",
       "      <th>Oferta</th>\n",
       "      <th>Cena</th>\n",
       "      <th>Poziom</th>\n",
       "      <th>Umeblowane</th>\n",
       "      <th>Powierzchnia</th>\n",
       "      <th>Liczba pokoi</th>\n",
       "      <th>Piętro</th>\n",
       "    </tr>\n",
       "  </thead>\n",
       "  <tbody>\n",
       "  </tbody>\n",
       "</table>\n",
       "</div>"
      ],
      "text/plain": [
       "Empty DataFrame\n",
       "Columns: [Url, Oferta, Cena, Poziom, Umeblowane, Powierzchnia, Liczba pokoi, Piętro]\n",
       "Index: []"
      ]
     },
     "execution_count": 13,
     "metadata": {},
     "output_type": "execute_result"
    }
   ],
   "source": [
    "df[(df['Poziom'].notnull()) & (df['Piętro'].notnull())]"
   ]
  },
  {
   "cell_type": "code",
   "execution_count": 14,
   "metadata": {},
   "outputs": [],
   "source": [
    "# Filling missing values with zeros\n",
    "df['Poziom'].fillna('0', inplace=True)\n",
    "df['Piętro'].fillna('0', inplace=True)"
   ]
  },
  {
   "cell_type": "code",
   "execution_count": 15,
   "metadata": {
    "scrolled": true
   },
   "outputs": [],
   "source": [
    "# Changing descriptive values to numerical and changing type of data to int\n",
    "df['Poziom'] = df['Poziom'].apply(lambda x: int(replace[x]) if x in replace else int(x))\n",
    "df['Piętro'] = df['Piętro'].apply(lambda x: int(replace[x]) if x in replace else int(x))"
   ]
  },
  {
   "cell_type": "code",
   "execution_count": 16,
   "metadata": {},
   "outputs": [],
   "source": [
    "# Summing columns, dropping unnecesary ones\n",
    "df['Piętro'] = df['Piętro'] + df['Poziom']\n",
    "df.drop(['Piętro', 'Poziom'], axis=1, inplace=True)"
   ]
  },
  {
   "cell_type": "code",
   "execution_count": 17,
   "metadata": {},
   "outputs": [
    {
     "data": {
      "text/html": [
       "<div>\n",
       "<style scoped>\n",
       "    .dataframe tbody tr th:only-of-type {\n",
       "        vertical-align: middle;\n",
       "    }\n",
       "\n",
       "    .dataframe tbody tr th {\n",
       "        vertical-align: top;\n",
       "    }\n",
       "\n",
       "    .dataframe thead th {\n",
       "        text-align: right;\n",
       "    }\n",
       "</style>\n",
       "<table border=\"1\" class=\"dataframe\">\n",
       "  <thead>\n",
       "    <tr style=\"text-align: right;\">\n",
       "      <th></th>\n",
       "      <th>Url</th>\n",
       "      <th>Oferta</th>\n",
       "      <th>Cena</th>\n",
       "      <th>Umeblowane</th>\n",
       "      <th>Powierzchnia</th>\n",
       "      <th>Liczba pokoi</th>\n",
       "    </tr>\n",
       "  </thead>\n",
       "  <tbody>\n",
       "    <tr>\n",
       "      <th>0</th>\n",
       "      <td>https://www.olx.pl/oferta/kawalerka-na-wynajem...</td>\n",
       "      <td>Kawalerka na wynajem. Bałuty</td>\n",
       "      <td>1400.0</td>\n",
       "      <td>Tak</td>\n",
       "      <td>22 m²</td>\n",
       "      <td>Kawalerka</td>\n",
       "    </tr>\n",
       "    <tr>\n",
       "      <th>1</th>\n",
       "      <td>https://www.olx.pl/oferta/wakacje-30-rentaroom...</td>\n",
       "      <td>WAKACJE -30% RENTAROOM.PL Speak Eng Manufaktur...</td>\n",
       "      <td>1100.0</td>\n",
       "      <td>Tak</td>\n",
       "      <td>18 m²</td>\n",
       "      <td>Kawalerka</td>\n",
       "    </tr>\n",
       "    <tr>\n",
       "      <th>2</th>\n",
       "      <td>https://www.olx.pl/oferta/wynajme-mieszkanie-4...</td>\n",
       "      <td>Wynajme mieszkanie 48m2 2 pokoje Łódź ul.Gandh...</td>\n",
       "      <td>1980.0</td>\n",
       "      <td>Tak</td>\n",
       "      <td>48 m²</td>\n",
       "      <td>2 pokoje</td>\n",
       "    </tr>\n",
       "    <tr>\n",
       "      <th>3</th>\n",
       "      <td>https://www.olx.pl/oferta/2-pokoje-w-stylu-lof...</td>\n",
       "      <td>2 pokoje w stylu loft k. Manufaktury</td>\n",
       "      <td>1850.0</td>\n",
       "      <td>Tak</td>\n",
       "      <td>35 m²</td>\n",
       "      <td>2 pokoje</td>\n",
       "    </tr>\n",
       "    <tr>\n",
       "      <th>4</th>\n",
       "      <td>https://www.olx.pl/oferta/przytulna-kawalerka-...</td>\n",
       "      <td>Przytulna kawalerka. wysoki standard. ul. Uniw...</td>\n",
       "      <td>1510.0</td>\n",
       "      <td>Tak</td>\n",
       "      <td>20 m²</td>\n",
       "      <td>Kawalerka</td>\n",
       "    </tr>\n",
       "  </tbody>\n",
       "</table>\n",
       "</div>"
      ],
      "text/plain": [
       "                                                 Url  \\\n",
       "0  https://www.olx.pl/oferta/kawalerka-na-wynajem...   \n",
       "1  https://www.olx.pl/oferta/wakacje-30-rentaroom...   \n",
       "2  https://www.olx.pl/oferta/wynajme-mieszkanie-4...   \n",
       "3  https://www.olx.pl/oferta/2-pokoje-w-stylu-lof...   \n",
       "4  https://www.olx.pl/oferta/przytulna-kawalerka-...   \n",
       "\n",
       "                                              Oferta    Cena Umeblowane  \\\n",
       "0                       Kawalerka na wynajem. Bałuty  1400.0        Tak   \n",
       "1  WAKACJE -30% RENTAROOM.PL Speak Eng Manufaktur...  1100.0        Tak   \n",
       "2  Wynajme mieszkanie 48m2 2 pokoje Łódź ul.Gandh...  1980.0        Tak   \n",
       "3               2 pokoje w stylu loft k. Manufaktury  1850.0        Tak   \n",
       "4  Przytulna kawalerka. wysoki standard. ul. Uniw...  1510.0        Tak   \n",
       "\n",
       "  Powierzchnia Liczba pokoi  \n",
       "0        22 m²    Kawalerka  \n",
       "1        18 m²    Kawalerka  \n",
       "2        48 m²     2 pokoje  \n",
       "3        35 m²     2 pokoje  \n",
       "4        20 m²    Kawalerka  "
      ]
     },
     "execution_count": 17,
     "metadata": {},
     "output_type": "execute_result"
    }
   ],
   "source": [
    "df.head()"
   ]
  },
  {
   "cell_type": "markdown",
   "metadata": {},
   "source": [
    "Similar steps need to be done with 'Liczba pokoi' (number of rooms)"
   ]
  },
  {
   "cell_type": "code",
   "execution_count": 18,
   "metadata": {
    "scrolled": true
   },
   "outputs": [
    {
     "data": {
      "text/plain": [
       "array(['Kawalerka', '2 pokoje', '4 i więcej', ' 3', '3 pokoje', ' 2',\n",
       "       ' 4', ' 1'], dtype=object)"
      ]
     },
     "execution_count": 18,
     "metadata": {},
     "output_type": "execute_result"
    }
   ],
   "source": [
    "df['Liczba pokoi'].unique()"
   ]
  },
  {
   "cell_type": "code",
   "execution_count": 19,
   "metadata": {},
   "outputs": [],
   "source": [
    "replace = {'Kawalerka': '1', '2 pokoje': '2', '3 pokoje': '3', '4 i więcej': '4'}\n",
    "df['Liczba pokoi'] = df['Liczba pokoi'].apply(lambda x: int(replace[x]) if x in replace else int(x))"
   ]
  },
  {
   "cell_type": "markdown",
   "metadata": {},
   "source": [
    "Converting 'Powierzchnia' (area) to numerical value, skipping square meters"
   ]
  },
  {
   "cell_type": "code",
   "execution_count": 20,
   "metadata": {},
   "outputs": [],
   "source": [
    "df['Powierzchnia'] = df['Powierzchnia'].apply(lambda x: float(x.split('m')[0].replace(',', '.')))"
   ]
  },
  {
   "cell_type": "markdown",
   "metadata": {},
   "source": [
    "After checking missing values in 'Umeblowane' column (Furnished), we can conclude that vast majority of offers is Furnished, therefore we will assign '1' to them and one-hot encode the rest."
   ]
  },
  {
   "cell_type": "code",
   "execution_count": 21,
   "metadata": {
    "scrolled": true
   },
   "outputs": [
    {
     "data": {
      "text/html": [
       "<div>\n",
       "<style scoped>\n",
       "    .dataframe tbody tr th:only-of-type {\n",
       "        vertical-align: middle;\n",
       "    }\n",
       "\n",
       "    .dataframe tbody tr th {\n",
       "        vertical-align: top;\n",
       "    }\n",
       "\n",
       "    .dataframe thead th {\n",
       "        text-align: right;\n",
       "    }\n",
       "</style>\n",
       "<table border=\"1\" class=\"dataframe\">\n",
       "  <thead>\n",
       "    <tr style=\"text-align: right;\">\n",
       "      <th></th>\n",
       "      <th>Url</th>\n",
       "      <th>Oferta</th>\n",
       "      <th>Cena</th>\n",
       "      <th>Umeblowane</th>\n",
       "      <th>Powierzchnia</th>\n",
       "      <th>Liczba pokoi</th>\n",
       "    </tr>\n",
       "  </thead>\n",
       "  <tbody>\n",
       "    <tr>\n",
       "      <th>22</th>\n",
       "      <td>https://www.otodom.pl/oferta/do-wynajecia-w-ce...</td>\n",
       "      <td>Do wynajęcia w centrum Łodzi - Manhattan</td>\n",
       "      <td>2150.0</td>\n",
       "      <td>NaN</td>\n",
       "      <td>62.00</td>\n",
       "      <td>3</td>\n",
       "    </tr>\n",
       "    <tr>\n",
       "      <th>33</th>\n",
       "      <td>https://www.otodom.pl/oferta/lodz-retkinia-3-p...</td>\n",
       "      <td>Łódź. Retkinia. 3 pokojowe. umeblowane</td>\n",
       "      <td>1942.0</td>\n",
       "      <td>NaN</td>\n",
       "      <td>53.00</td>\n",
       "      <td>3</td>\n",
       "    </tr>\n",
       "    <tr>\n",
       "      <th>45</th>\n",
       "      <td>https://www.otodom.pl/oferta/wynajme-mieszkani...</td>\n",
       "      <td>Wynajme mieszkanie łódź Retkinia</td>\n",
       "      <td>1700.0</td>\n",
       "      <td>NaN</td>\n",
       "      <td>42.42</td>\n",
       "      <td>2</td>\n",
       "    </tr>\n",
       "    <tr>\n",
       "      <th>62</th>\n",
       "      <td>https://www.otodom.pl/oferta/nowe-4-pokojowe-m...</td>\n",
       "      <td>Nowe 4-pokojowe mieszkanie z balkonem bez prow...</td>\n",
       "      <td>2780.0</td>\n",
       "      <td>NaN</td>\n",
       "      <td>78.00</td>\n",
       "      <td>4</td>\n",
       "    </tr>\n",
       "    <tr>\n",
       "      <th>95</th>\n",
       "      <td>https://www.otodom.pl/oferta/wynajme-mieszkani...</td>\n",
       "      <td>Wynajmę mieszkanie o wysokim standardzie</td>\n",
       "      <td>2800.0</td>\n",
       "      <td>NaN</td>\n",
       "      <td>52.00</td>\n",
       "      <td>2</td>\n",
       "    </tr>\n",
       "    <tr>\n",
       "      <th>...</th>\n",
       "      <td>...</td>\n",
       "      <td>...</td>\n",
       "      <td>...</td>\n",
       "      <td>...</td>\n",
       "      <td>...</td>\n",
       "      <td>...</td>\n",
       "    </tr>\n",
       "    <tr>\n",
       "      <th>1223</th>\n",
       "      <td>https://www.otodom.pl/oferta/kawalerka-w-centr...</td>\n",
       "      <td>Kawalerka w centrum idealna na biuro</td>\n",
       "      <td>1850.0</td>\n",
       "      <td>NaN</td>\n",
       "      <td>45.00</td>\n",
       "      <td>1</td>\n",
       "    </tr>\n",
       "    <tr>\n",
       "      <th>1225</th>\n",
       "      <td>https://www.otodom.pl/oferta/przytule-mieszkan...</td>\n",
       "      <td>Przytule mieszkanie. ul. Targowa. 40m2. 2 pokoje</td>\n",
       "      <td>1300.0</td>\n",
       "      <td>NaN</td>\n",
       "      <td>40.00</td>\n",
       "      <td>2</td>\n",
       "    </tr>\n",
       "    <tr>\n",
       "      <th>1227</th>\n",
       "      <td>https://www.otodom.pl/oferta/ilumino-kilinskie...</td>\n",
       "      <td>Ilumino Kilińskiego 3 pokoje Balkon Centrum Łódź</td>\n",
       "      <td>2690.0</td>\n",
       "      <td>NaN</td>\n",
       "      <td>57.63</td>\n",
       "      <td>3</td>\n",
       "    </tr>\n",
       "    <tr>\n",
       "      <th>1230</th>\n",
       "      <td>https://www.otodom.pl/oferta/solaris-park-tuwi...</td>\n",
       "      <td>Solaris Park Tuwima 3pokoje Basen Rewelacyjna ...</td>\n",
       "      <td>3020.0</td>\n",
       "      <td>NaN</td>\n",
       "      <td>67.97</td>\n",
       "      <td>3</td>\n",
       "    </tr>\n",
       "    <tr>\n",
       "      <th>1231</th>\n",
       "      <td>https://www.otodom.pl/oferta/atrakcyjne-mieszk...</td>\n",
       "      <td>Atrakcyjne Mieszkanie 3 pokoje Centrum Radwańska</td>\n",
       "      <td>2500.0</td>\n",
       "      <td>NaN</td>\n",
       "      <td>94.00</td>\n",
       "      <td>3</td>\n",
       "    </tr>\n",
       "  </tbody>\n",
       "</table>\n",
       "<p>142 rows × 6 columns</p>\n",
       "</div>"
      ],
      "text/plain": [
       "                                                    Url  \\\n",
       "22    https://www.otodom.pl/oferta/do-wynajecia-w-ce...   \n",
       "33    https://www.otodom.pl/oferta/lodz-retkinia-3-p...   \n",
       "45    https://www.otodom.pl/oferta/wynajme-mieszkani...   \n",
       "62    https://www.otodom.pl/oferta/nowe-4-pokojowe-m...   \n",
       "95    https://www.otodom.pl/oferta/wynajme-mieszkani...   \n",
       "...                                                 ...   \n",
       "1223  https://www.otodom.pl/oferta/kawalerka-w-centr...   \n",
       "1225  https://www.otodom.pl/oferta/przytule-mieszkan...   \n",
       "1227  https://www.otodom.pl/oferta/ilumino-kilinskie...   \n",
       "1230  https://www.otodom.pl/oferta/solaris-park-tuwi...   \n",
       "1231  https://www.otodom.pl/oferta/atrakcyjne-mieszk...   \n",
       "\n",
       "                                                 Oferta    Cena Umeblowane  \\\n",
       "22             Do wynajęcia w centrum Łodzi - Manhattan  2150.0        NaN   \n",
       "33               Łódź. Retkinia. 3 pokojowe. umeblowane  1942.0        NaN   \n",
       "45                     Wynajme mieszkanie łódź Retkinia  1700.0        NaN   \n",
       "62    Nowe 4-pokojowe mieszkanie z balkonem bez prow...  2780.0        NaN   \n",
       "95             Wynajmę mieszkanie o wysokim standardzie  2800.0        NaN   \n",
       "...                                                 ...     ...        ...   \n",
       "1223               Kawalerka w centrum idealna na biuro  1850.0        NaN   \n",
       "1225   Przytule mieszkanie. ul. Targowa. 40m2. 2 pokoje  1300.0        NaN   \n",
       "1227   Ilumino Kilińskiego 3 pokoje Balkon Centrum Łódź  2690.0        NaN   \n",
       "1230  Solaris Park Tuwima 3pokoje Basen Rewelacyjna ...  3020.0        NaN   \n",
       "1231   Atrakcyjne Mieszkanie 3 pokoje Centrum Radwańska  2500.0        NaN   \n",
       "\n",
       "      Powierzchnia  Liczba pokoi  \n",
       "22           62.00             3  \n",
       "33           53.00             3  \n",
       "45           42.42             2  \n",
       "62           78.00             4  \n",
       "95           52.00             2  \n",
       "...            ...           ...  \n",
       "1223         45.00             1  \n",
       "1225         40.00             2  \n",
       "1227         57.63             3  \n",
       "1230         67.97             3  \n",
       "1231         94.00             3  \n",
       "\n",
       "[142 rows x 6 columns]"
      ]
     },
     "execution_count": 21,
     "metadata": {},
     "output_type": "execute_result"
    }
   ],
   "source": [
    "df[df['Umeblowane'].isnull()]"
   ]
  },
  {
   "cell_type": "code",
   "execution_count": 22,
   "metadata": {},
   "outputs": [],
   "source": [
    "df['Umeblowane'] = df['Umeblowane'].fillna(1)\n",
    "replace = {'Tak': 1, 'Nie': 0}\n",
    "df['Umeblowane'] = df['Umeblowane'].apply(lambda x: replace[x] if x in replace else x)"
   ]
  },
  {
   "cell_type": "code",
   "execution_count": 23,
   "metadata": {},
   "outputs": [
    {
     "data": {
      "text/plain": [
       "Url              object\n",
       "Oferta           object\n",
       "Cena            float64\n",
       "Umeblowane        int64\n",
       "Powierzchnia    float64\n",
       "Liczba pokoi      int64\n",
       "dtype: object"
      ]
     },
     "execution_count": 23,
     "metadata": {},
     "output_type": "execute_result"
    }
   ],
   "source": [
    "# Checking types of data in columns\n",
    "df.dtypes"
   ]
  },
  {
   "cell_type": "markdown",
   "metadata": {},
   "source": [
    "In order to reduce the memory usage and due to the fact that our int values are fairly small, we can convert them to int32"
   ]
  },
  {
   "cell_type": "code",
   "execution_count": 24,
   "metadata": {},
   "outputs": [],
   "source": [
    "df['Cena'] = df['Cena'].astype(int)\n",
    "df['Umeblowane'] = df['Umeblowane'].astype(int)\n",
    "df['Liczba pokoi'] = df['Liczba pokoi'].astype(int)"
   ]
  },
  {
   "cell_type": "code",
   "execution_count": 25,
   "metadata": {},
   "outputs": [
    {
     "data": {
      "text/plain": [
       "Url              object\n",
       "Oferta           object\n",
       "Cena              int32\n",
       "Umeblowane        int32\n",
       "Powierzchnia    float64\n",
       "Liczba pokoi      int32\n",
       "dtype: object"
      ]
     },
     "execution_count": 25,
     "metadata": {},
     "output_type": "execute_result"
    }
   ],
   "source": [
    "df.dtypes"
   ]
  },
  {
   "cell_type": "markdown",
   "metadata": {},
   "source": [
    "## EDA with further cleaning"
   ]
  },
  {
   "cell_type": "markdown",
   "metadata": {},
   "source": [
    "Investigating presence of outliers"
   ]
  },
  {
   "cell_type": "code",
   "execution_count": 26,
   "metadata": {
    "scrolled": true
   },
   "outputs": [
    {
     "data": {
      "image/png": "[encoded data removed]",
      "text/plain": [
       "<Figure size 432x288 with 1 Axes>"
      ]
     },
     "metadata": {
      "needs_background": "light"
     },
     "output_type": "display_data"
    }
   ],
   "source": [
    "sns.boxplot(df['Cena'])\n",
    "plt.show()"
   ]
  },
  {
   "cell_type": "markdown",
   "metadata": {},
   "source": [
    "During data analysis, especially during its manipulation, we have to take some experience in particular field into consideration. Thus we will spare some of the data exceeding typical 'Q3 + 1.5 x IQR' range, since it makes sense that some apartments are at lowest or highest cost.<br>\n",
    "Instead we will drop the least probable prices, laying at 0.01 and 0.99 quantile - 810 to 3500 PLN seems like the most probable price for most of the apartments."
   ]
  },
  {
   "cell_type": "code",
   "execution_count": 27,
   "metadata": {
    "scrolled": true
   },
   "outputs": [
    {
     "name": "stdout",
     "output_type": "stream",
     "text": [
      "range (810.4, 3466.000000000008)\n"
     ]
    }
   ],
   "source": [
    "lower, upper = df['Cena'].quantile([.01, .99])\n",
    "print('range', (lower, upper))"
   ]
  },
  {
   "cell_type": "code",
   "execution_count": 28,
   "metadata": {},
   "outputs": [],
   "source": [
    "df = df[(df['Cena'] > lower) & (df['Cena'] < upper)]"
   ]
  },
  {
   "cell_type": "markdown",
   "metadata": {},
   "source": [
    "Data after cleaning"
   ]
  },
  {
   "cell_type": "code",
   "execution_count": 29,
   "metadata": {
    "scrolled": true
   },
   "outputs": [
    {
     "data": {
      "image/png": "[encoded data removed]",
      "text/plain": [
       "<Figure size 432x288 with 1 Axes>"
      ]
     },
     "metadata": {
      "needs_background": "light"
     },
     "output_type": "display_data"
    }
   ],
   "source": [
    "sns.boxplot(df['Cena'])\n",
    "plt.show()"
   ]
  },
  {
   "cell_type": "code",
   "execution_count": 30,
   "metadata": {},
   "outputs": [
    {
     "data": {
      "text/plain": [
       "<matplotlib.axes._subplots.AxesSubplot at 0x1d5c2f3d148>"
      ]
     },
     "execution_count": 30,
     "metadata": {},
     "output_type": "execute_result"
    },
    {
     "data": {
      "image/png": "[encoded data removed]",
      "text/plain": [
       "<Figure size 432x288 with 1 Axes>"
      ]
     },
     "metadata": {
      "needs_background": "light"
     },
     "output_type": "display_data"
    }
   ],
   "source": [
    "sns.distplot(df['Cena'])"
   ]
  },
  {
   "cell_type": "code",
   "execution_count": 31,
   "metadata": {
    "scrolled": true
   },
   "outputs": [
    {
     "data": {
      "image/png": "[encoded data removed]",
      "text/plain": [
       "<Figure size 432x288 with 1 Axes>"
      ]
     },
     "metadata": {
      "needs_background": "light"
     },
     "output_type": "display_data"
    }
   ],
   "source": [
    "sns.distplot(df['Powierzchnia'])\n",
    "sns.set_context(\"poster\")\n",
    "sns.despine()\n",
    "plt.show()"
   ]
  },
  {
   "cell_type": "code",
   "execution_count": 32,
   "metadata": {},
   "outputs": [
    {
     "data": {
      "image/png": "[encoded data removed]",
      "text/plain": [
       "<Figure size 432x288 with 1 Axes>"
      ]
     },
     "metadata": {
      "needs_background": "light"
     },
     "output_type": "display_data"
    }
   ],
   "source": [
    "ax = sns.distplot(df['Liczba pokoi'], kde=False)\n",
    "ax.set(xticks=[1, 2, 3, 4])\n",
    "sns.despine()\n",
    "plt.show()"
   ]
  },
  {
   "cell_type": "code",
   "execution_count": 33,
   "metadata": {},
   "outputs": [
    {
     "data": {
      "image/png": "[encoded data removed]",
      "text/plain": [
       "<Figure size 1440x720 with 1 Axes>"
      ]
     },
     "metadata": {
      "needs_background": "light"
     },
     "output_type": "display_data"
    }
   ],
   "source": [
    "plt.figure(figsize=(20, 10))\n",
    "ax = sns.set(font_scale=2)\n",
    "ax = sns.set_style('white')\n",
    "ax = sns.scatterplot(x='Powierzchnia', y='Cena', hue='Liczba pokoi', data=df, s=100, alpha=0.75)\n",
    "plt.xlabel('Powierzchnia m^2')\n",
    "plt.show()"
   ]
  },
  {
   "cell_type": "code",
   "execution_count": 34,
   "metadata": {},
   "outputs": [],
   "source": [
    "df.to_csv('C:/Users/KubaPC/Desktop/mieszkaniaLodz/offersFormatted.csv')"
   ]
  }
 ],
 "metadata": {
  "kernelspec": {
   "display_name": "Python 3",
   "language": "python",
   "name": "python3"
  },
  "language_info": {
   "codemirror_mode": {
    "name": "ipython",
    "version": 3
   },
   "file_extension": ".py",
   "mimetype": "text/x-python",
   "name": "python",
   "nbconvert_exporter": "python",
   "pygments_lexer": "ipython3",
   "version": "3.7.7"
  }
 },
 "nbformat": 4,
 "nbformat_minor": 4
}
